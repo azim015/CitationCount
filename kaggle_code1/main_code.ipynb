! LOG_LEVEL=INFO python src/parse.py /tmp/train_parse
! python src/check_parse.py
! python src/getid.py
! python src/llm_validate.py