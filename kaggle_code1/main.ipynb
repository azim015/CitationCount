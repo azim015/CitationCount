{
 "cells": [
  {
   "cell_type": "code",
   "execution_count": null,
   "id": "2dc090a9",
   "metadata": {},
   "outputs": [],
   "source": [
    "! LOG_LEVEL=INFO python parse.py train_parse\n",
    "print(1)\n",
    "! python check_parse.py\n",
    "print(2)\n",
    "! python getid.py\n",
    "print(3)\n",
    "! python llm_validate.py"
   ]
  },
  {
   "cell_type": "code",
   "execution_count": null,
   "id": "934a40d0",
   "metadata": {},
   "outputs": [],
   "source": [
    "!pip install kagglehub"
   ]
  },
  {
   "cell_type": "code",
   "execution_count": null,
   "id": "3e828bf4",
   "metadata": {},
   "outputs": [],
   "source": []
  }
 ],
 "metadata": {
  "kernelspec": {
   "display_name": "citations",
   "language": "python",
   "name": "python3"
  },
  "language_info": {
   "codemirror_mode": {
    "name": "ipython",
    "version": 3
   },
   "file_extension": ".py",
   "mimetype": "text/x-python",
   "name": "python",
   "nbconvert_exporter": "python",
   "pygments_lexer": "ipython3",
   "version": "3.10.18"
  }
 },
 "nbformat": 4,
 "nbformat_minor": 5
}
