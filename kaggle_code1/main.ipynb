{
 "cells": [
  {
   "cell_type": "code",
   "execution_count": 7,
   "id": "2dc090a9",
   "metadata": {},
   "outputs": [
    {
     "name": "stdout",
     "output_type": "stream",
     "text": [
      "1\n"
     ]
    },
    {
     "name": "stderr",
     "output_type": "stream",
     "text": [
      "'LOG_LEVEL' is not recognized as an internal or external command,\n",
      "operable program or batch file.\n"
     ]
    },
    {
     "name": "stdout",
     "output_type": "stream",
     "text": [
      "2\n"
     ]
    },
    {
     "name": "stderr",
     "output_type": "stream",
     "text": [
      "Traceback (most recent call last):\n",
      "  File \"c:\\Users\\arezaei\\OneDrive - Texas A&M University-Corpus Christi\\Research & Academic\\Kaggle\\Citation Count\\kaggle_code1\\check_parse.py\", line 3, in <module>\n",
      "    from helpers import *\n",
      "  File \"c:\\Users\\arezaei\\OneDrive - Texas A&M University-Corpus Christi\\Research & Academic\\Kaggle\\Citation Count\\kaggle_code1\\helpers.py\", line 7, in <module>\n",
      "    COMP_DIR = Path(('/kaggle/input/make-data-count-finding-data-references' if IS_KAGGLE_SUBMISSION else kagglehub.competition_download('make-data-count-finding-data-references')))\n",
      "  File \"c:\\Users\\arezaei\\.conda\\envs\\citations\\lib\\site-packages\\kagglehub\\competition.py\", line 23, in competition_download\n",
      "    path, _ = registry.competition_resolver(h, path, force_download=force_download)\n",
      "  File \"c:\\Users\\arezaei\\.conda\\envs\\citations\\lib\\site-packages\\kagglehub\\registry.py\", line 28, in __call__\n",
      "    return impl(*args, **kwargs)\n",
      "  File \"c:\\Users\\arezaei\\.conda\\envs\\citations\\lib\\site-packages\\kagglehub\\resolver.py\", line 29, in __call__\n",
      "    path, version = self._resolve(handle, path, force_download=force_download)\n",
      "  File \"c:\\Users\\arezaei\\.conda\\envs\\citations\\lib\\site-packages\\kagglehub\\http_resolver.py\", line 50, in _resolve\n",
      "    raise UnauthenticatedError()\n",
      "kagglehub.exceptions.UnauthenticatedError: User is not authenticated\n"
     ]
    },
    {
     "name": "stdout",
     "output_type": "stream",
     "text": [
      "3\n"
     ]
    },
    {
     "name": "stderr",
     "output_type": "stream",
     "text": [
      "Traceback (most recent call last):\n",
      "  File \"c:\\Users\\arezaei\\OneDrive - Texas A&M University-Corpus Christi\\Research & Academic\\Kaggle\\Citation Count\\kaggle_code1\\getid.py\", line 5, in <module>\n",
      "    from helpers import *\n",
      "  File \"c:\\Users\\arezaei\\OneDrive - Texas A&M University-Corpus Christi\\Research & Academic\\Kaggle\\Citation Count\\kaggle_code1\\helpers.py\", line 7, in <module>\n",
      "    COMP_DIR = Path(('/kaggle/input/make-data-count-finding-data-references' if IS_KAGGLE_SUBMISSION else kagglehub.competition_download('make-data-count-finding-data-references')))\n",
      "  File \"c:\\Users\\arezaei\\.conda\\envs\\citations\\lib\\site-packages\\kagglehub\\competition.py\", line 23, in competition_download\n",
      "    path, _ = registry.competition_resolver(h, path, force_download=force_download)\n",
      "  File \"c:\\Users\\arezaei\\.conda\\envs\\citations\\lib\\site-packages\\kagglehub\\registry.py\", line 28, in __call__\n",
      "    return impl(*args, **kwargs)\n",
      "  File \"c:\\Users\\arezaei\\.conda\\envs\\citations\\lib\\site-packages\\kagglehub\\resolver.py\", line 29, in __call__\n",
      "    path, version = self._resolve(handle, path, force_download=force_download)\n",
      "  File \"c:\\Users\\arezaei\\.conda\\envs\\citations\\lib\\site-packages\\kagglehub\\http_resolver.py\", line 50, in _resolve\n",
      "    raise UnauthenticatedError()\n",
      "kagglehub.exceptions.UnauthenticatedError: User is not authenticated\n",
      "Traceback (most recent call last):\n",
      "  File \"c:\\Users\\arezaei\\OneDrive - Texas A&M University-Corpus Christi\\Research & Academic\\Kaggle\\Citation Count\\kaggle_code1\\llm_validate.py\", line 4, in <module>\n",
      "    from helpers import *\n",
      "  File \"c:\\Users\\arezaei\\OneDrive - Texas A&M University-Corpus Christi\\Research & Academic\\Kaggle\\Citation Count\\kaggle_code1\\helpers.py\", line 7, in <module>\n",
      "    COMP_DIR = Path(('/kaggle/input/make-data-count-finding-data-references' if IS_KAGGLE_SUBMISSION else kagglehub.competition_download('make-data-count-finding-data-references')))\n",
      "  File \"c:\\Users\\arezaei\\.conda\\envs\\citations\\lib\\site-packages\\kagglehub\\competition.py\", line 23, in competition_download\n",
      "    path, _ = registry.competition_resolver(h, path, force_download=force_download)\n",
      "  File \"c:\\Users\\arezaei\\.conda\\envs\\citations\\lib\\site-packages\\kagglehub\\registry.py\", line 28, in __call__\n",
      "    return impl(*args, **kwargs)\n",
      "  File \"c:\\Users\\arezaei\\.conda\\envs\\citations\\lib\\site-packages\\kagglehub\\resolver.py\", line 29, in __call__\n",
      "    path, version = self._resolve(handle, path, force_download=force_download)\n",
      "  File \"c:\\Users\\arezaei\\.conda\\envs\\citations\\lib\\site-packages\\kagglehub\\http_resolver.py\", line 50, in _resolve\n",
      "    raise UnauthenticatedError()\n",
      "kagglehub.exceptions.UnauthenticatedError: User is not authenticated\n"
     ]
    }
   ],
   "source": [
    "! LOG_LEVEL=INFO python parse.py train_parse\n",
    "print(1)\n",
    "! python check_parse.py\n",
    "print(2)\n",
    "! python getid.py\n",
    "print(3)\n",
    "! python llm_validate.py"
   ]
  },
  {
   "cell_type": "code",
   "execution_count": 4,
   "id": "934a40d0",
   "metadata": {},
   "outputs": [
    {
     "name": "stdout",
     "output_type": "stream",
     "text": [
      "Collecting kagglehub\n",
      "  Downloading kagglehub-0.3.13-py3-none-any.whl.metadata (38 kB)\n",
      "Requirement already satisfied: packaging in c:\\users\\arezaei\\.conda\\envs\\citations\\lib\\site-packages (from kagglehub) (25.0)\n",
      "Collecting pyyaml (from kagglehub)\n",
      "  Downloading PyYAML-6.0.2-cp310-cp310-win_amd64.whl.metadata (2.1 kB)\n",
      "Requirement already satisfied: requests in c:\\users\\arezaei\\.conda\\envs\\citations\\lib\\site-packages (from kagglehub) (2.32.5)\n",
      "Requirement already satisfied: tqdm in c:\\users\\arezaei\\.conda\\envs\\citations\\lib\\site-packages (from kagglehub) (4.67.1)\n",
      "Requirement already satisfied: charset_normalizer<4,>=2 in c:\\users\\arezaei\\.conda\\envs\\citations\\lib\\site-packages (from requests->kagglehub) (3.4.3)\n",
      "Requirement already satisfied: idna<4,>=2.5 in c:\\users\\arezaei\\.conda\\envs\\citations\\lib\\site-packages (from requests->kagglehub) (3.10)\n",
      "Requirement already satisfied: urllib3<3,>=1.21.1 in c:\\users\\arezaei\\.conda\\envs\\citations\\lib\\site-packages (from requests->kagglehub) (2.5.0)\n",
      "Requirement already satisfied: certifi>=2017.4.17 in c:\\users\\arezaei\\.conda\\envs\\citations\\lib\\site-packages (from requests->kagglehub) (2025.8.3)\n",
      "Requirement already satisfied: colorama in c:\\users\\arezaei\\.conda\\envs\\citations\\lib\\site-packages (from tqdm->kagglehub) (0.4.6)\n",
      "Downloading kagglehub-0.3.13-py3-none-any.whl (68 kB)\n",
      "Downloading PyYAML-6.0.2-cp310-cp310-win_amd64.whl (161 kB)\n",
      "Installing collected packages: pyyaml, kagglehub\n",
      "\n",
      "   ---------------------------------------- 0/2 [pyyaml]\n",
      "   -------------------- ------------------- 1/2 [kagglehub]\n",
      "   -------------------- ------------------- 1/2 [kagglehub]\n",
      "   ---------------------------------------- 2/2 [kagglehub]\n",
      "\n",
      "Successfully installed kagglehub-0.3.13 pyyaml-6.0.2\n"
     ]
    }
   ],
   "source": [
    "!pip install kagglehub"
   ]
  },
  {
   "cell_type": "code",
   "execution_count": null,
   "id": "3e828bf4",
   "metadata": {},
   "outputs": [],
   "source": []
  }
 ],
 "metadata": {
  "kernelspec": {
   "display_name": "citations",
   "language": "python",
   "name": "python3"
  },
  "language_info": {
   "codemirror_mode": {
    "name": "ipython",
    "version": 3
   },
   "file_extension": ".py",
   "mimetype": "text/x-python",
   "name": "python",
   "nbconvert_exporter": "python",
   "pygments_lexer": "ipython3",
   "version": "3.10.18"
  }
 },
 "nbformat": 4,
 "nbformat_minor": 5
}
